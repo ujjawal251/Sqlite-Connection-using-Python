{
 "cells": [
  {
   "cell_type": "code",
   "execution_count": 17,
   "metadata": {
    "collapsed": true
   },
   "outputs": [],
   "source": [
    "import sqlite3\n",
    "from sqlite3 import Error"
   ]
  },
  {
   "cell_type": "code",
   "execution_count": 18,
   "metadata": {
    "collapsed": true
   },
   "outputs": [],
   "source": [
    "#Establising Connection with Sqlite Dabase and creating Database\n",
    "def SqlConnection():\n",
    "    try:\n",
    "        connection = sqlite3.connect('database.db')    #Create database if enetered named database is not present otherwise it points to that database\n",
    "        return connection                              #return Connection object for accesing connection method for quering\n",
    "    except Error:\n",
    "        print(Error)"
   ]
  },
  {
   "cell_type": "code",
   "execution_count": 19,
   "metadata": {
    "collapsed": true
   },
   "outputs": [],
   "source": [
    "# Creating Table\n",
    "def CreateTable(connection):\n",
    "    CursorObject = connection.cursor()          #Creating Cursor object for executing the sql query\n",
    "    CursorObject.execute(\"CREATE TABLE employees(id integer PRIMARY KEY, name text, salary real, department text, position text, hireDate text)\")        #Query for creating Table                   \n",
    "    connection.commit()"
   ]
  },
  {
   "cell_type": "code",
   "execution_count": 20,
   "metadata": {
    "collapsed": true
   },
   "outputs": [],
   "source": [
    "#Inserting Data\n",
    "def InsertData(connection):\n",
    "    CursorObject = connection.cursor()         ##Creating Cursor object for executing the sql query\n",
    "    CursorObject.execute(\"INSERT INTO employees VALUES(007, 'Ujjawal Mishra', 24000, 'Software Development', 'Software Developer', '2017-07-08')\")       #Inserting data into employee table\n",
    "    connection.commit()"
   ]
  },
  {
   "cell_type": "code",
   "execution_count": 21,
   "metadata": {
    "collapsed": true
   },
   "outputs": [],
   "source": [
    "#Fetching data from table\n",
    "def FetchData(connection):\n",
    "    CursorObject = connection.cursor()         #Creating Cursor object for executing the sql query\n",
    "    CursorObject.execute('SELECT * FROM employees')     #Query for fetching all data from employee table\n",
    "    Datas = CursorObject.fetchall()\n",
    "    for Data in Datas:\n",
    "        print(Data)"
   ]
  },
  {
   "cell_type": "code",
   "execution_count": 24,
   "metadata": {},
   "outputs": [
    {
     "name": "stdout",
     "output_type": "stream",
     "text": [
      "(7, 'Ujjawal Mishra', 24000.0, 'Software Development', 'Software Developer', '2017-07-08')\n"
     ]
    }
   ],
   "source": [
    "connection = SqlConnection()     #creating and Establishing connection from database \n",
    "CreateTable(connection)         #Creating Table\n",
    "InsertData(connection)          #inserting data into table\n",
    "FetchData(connection)           #Fetching and printong data"
   ]
  },
  {
   "cell_type": "code",
   "execution_count": null,
   "metadata": {
    "collapsed": true
   },
   "outputs": [],
   "source": []
  }
 ],
 "metadata": {
  "kernelspec": {
   "display_name": "Python 3",
   "language": "python",
   "name": "python3"
  },
  "language_info": {
   "codemirror_mode": {
    "name": "ipython",
    "version": 3
   },
   "file_extension": ".py",
   "mimetype": "text/x-python",
   "name": "python",
   "nbconvert_exporter": "python",
   "pygments_lexer": "ipython3",
   "version": "3.6.2"
  }
 },
 "nbformat": 4,
 "nbformat_minor": 2
}
